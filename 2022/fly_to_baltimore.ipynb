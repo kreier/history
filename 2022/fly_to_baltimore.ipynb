{
 "cells": [
  {
   "cell_type": "code",
   "execution_count": 4,
   "id": "beb684ac",
   "metadata": {},
   "outputs": [
    {
     "name": "stdout",
     "output_type": "stream",
     "text": [
      "Das Ergebnis ist 2430000000000 nach der Berechnung\n"
     ]
    }
   ],
   "source": [
    "v = 300\n",
    "n = 5\n",
    "\n",
    "result = v**n\n",
    "\n",
    "print(f\"Das Ergebnis ist {result} nach der Berechnung\")"
   ]
  },
  {
   "cell_type": "markdown",
   "id": "9ce785eb",
   "metadata": {},
   "source": [
    "# Title\n",
    "\n",
    "So this will be rendered differntly in the end\n",
    "\n",
    "$$\n",
    "F_{\\mu\\nu} = \\int_0^{2\\pi} \\frac{\\tan \\theta}{1-\\frac{\\lambda}{c}}\n",
    "$$\n"
   ]
  },
  {
   "cell_type": "code",
   "execution_count": null,
   "id": "36ac4b6a",
   "metadata": {},
   "outputs": [],
   "source": []
  }
 ],
 "metadata": {
  "kernelspec": {
   "display_name": "Python 3 (ipykernel)",
   "language": "python",
   "name": "python3"
  },
  "language_info": {
   "codemirror_mode": {
    "name": "ipython",
    "version": 3
   },
   "file_extension": ".py",
   "mimetype": "text/x-python",
   "name": "python",
   "nbconvert_exporter": "python",
   "pygments_lexer": "ipython3",
   "version": "3.9.12"
  }
 },
 "nbformat": 4,
 "nbformat_minor": 5
}
