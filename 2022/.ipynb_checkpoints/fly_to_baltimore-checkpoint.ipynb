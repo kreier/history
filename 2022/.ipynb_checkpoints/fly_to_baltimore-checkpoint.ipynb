{
 "cells": [
  {
   "cell_type": "code",
   "execution_count": 3,
   "id": "31542ce3",
   "metadata": {},
   "outputs": [
    {
     "ename": "SyntaxError",
     "evalue": "invalid syntax (819348173.py, line 6)",
     "output_type": "error",
     "traceback": [
      "\u001b[0;36m  Input \u001b[0;32mIn [3]\u001b[0;36m\u001b[0m\n\u001b[0;31m    print(f.\"Das Ergebnis ist {result} nach der Berechnung\")\u001b[0m\n\u001b[0m            ^\u001b[0m\n\u001b[0;31mSyntaxError\u001b[0m\u001b[0;31m:\u001b[0m invalid syntax\n"
     ]
    }
   ],
   "source": [
    "v = 300\n",
    "n = 5\n",
    "\n",
    "result = v**n\n",
    "\n",
    "print(f\"Das Ergebnis ist {result} nach der Berechnung\")"
   ]
  },
  {
   "cell_type": "markdown",
   "id": "c041b101",
   "metadata": {},
   "source": [
    "# Title\n",
    "\n",
    "So this will be rendered differntly in the end?"
   ]
  },
  {
   "cell_type": "code",
   "execution_count": null,
   "id": "68420163",
   "metadata": {},
   "outputs": [],
   "source": []
  }
 ],
 "metadata": {
  "kernelspec": {
   "display_name": "Python 3 (ipykernel)",
   "language": "python",
   "name": "python3"
  },
  "language_info": {
   "codemirror_mode": {
    "name": "ipython",
    "version": 3
   },
   "file_extension": ".py",
   "mimetype": "text/x-python",
   "name": "python",
   "nbconvert_exporter": "python",
   "pygments_lexer": "ipython3",
   "version": "3.9.12"
  }
 },
 "nbformat": 4,
 "nbformat_minor": 5
}
